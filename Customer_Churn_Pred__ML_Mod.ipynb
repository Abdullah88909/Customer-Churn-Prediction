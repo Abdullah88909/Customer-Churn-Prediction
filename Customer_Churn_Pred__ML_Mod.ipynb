{
 "cells": [
  {
   "cell_type": "code",
   "execution_count": 1,
   "id": "2995d13c-2c12-4e4c-a66a-827424f44d85",
   "metadata": {},
   "outputs": [],
   "source": [
    "import pandas as pd\n",
    "import warnings\n",
    "warnings.filterwarnings(\"ignore\")\n",
    "%matplotlib inline "
   ]
  },
  {
   "cell_type": "code",
   "execution_count": 2,
   "id": "56d08b2b-b1b4-4df7-aa8b-2b3106fc3189",
   "metadata": {},
   "outputs": [
    {
     "name": "stdout",
     "output_type": "stream",
     "text": [
      "Numerical columns for imputation: ['AccountAge', 'MonthlyCharges', 'TotalCharges', 'ViewingHoursPerWeek', 'AverageViewingDuration', 'ContentDownloadsPerMonth', 'UserRating', 'SupportTicketsPerMonth', 'WatchlistSize']\n",
      "Imputed NaNs in 'MonthlyCharges' with median: 12.16988764\n",
      "Imputed NaNs in 'UserRating' with median: 2.8983278864999997\n"
     ]
    }
   ],
   "source": [
    "df = pd.read_csv('subscription_Service_Churn_Dataset.csv')\n",
    "df = df.drop('CustomerID', axis=1)\n",
    "df = df.drop('SubtitlesEnabled', axis=1)\n",
    "\n",
    "df['TotalCharges'] = pd.to_numeric(df['TotalCharges'], errors='coerce')\n",
    "# Impute NaNs in 'TotalCharges' with its median\n",
    "df['TotalCharges'].fillna(df['TotalCharges'].median(), inplace=True)\n",
    "\n",
    "# Step 2: Identify and impute NaNs in *all other numerical columns*\n",
    "# Get all numerical columns (excluding the target 'Churn' if it's still in df at this point)\n",
    "numerical_cols = df.select_dtypes(include=['number']).columns.tolist()\n",
    "\n",
    "# Remove 'Churn' from numerical_cols if it's mistakenly included and still in df\n",
    "if 'Churn' in numerical_cols:\n",
    "    numerical_cols.remove('Churn')\n",
    "\n",
    "print(f\"Numerical columns for imputation: {numerical_cols}\")\n",
    "\n",
    "for col in numerical_cols:\n",
    "    if df[col].isnull().any(): # Check if the column actually has NaNs\n",
    "        median_val = df[col].median()\n",
    "        df[col].fillna(median_val, inplace=True)\n",
    "        print(f\"Imputed NaNs in '{col}' with median: {median_val}\")\n",
    "\n"
   ]
  },
  {
   "cell_type": "code",
   "execution_count": 3,
   "id": "d0fff01c-99f9-4341-821c-f5f04fb6efa4",
   "metadata": {},
   "outputs": [
    {
     "data": {
      "text/html": [
       "<div>\n",
       "<style scoped>\n",
       "    .dataframe tbody tr th:only-of-type {\n",
       "        vertical-align: middle;\n",
       "    }\n",
       "\n",
       "    .dataframe tbody tr th {\n",
       "        vertical-align: top;\n",
       "    }\n",
       "\n",
       "    .dataframe thead th {\n",
       "        text-align: right;\n",
       "    }\n",
       "</style>\n",
       "<table border=\"1\" class=\"dataframe\">\n",
       "  <thead>\n",
       "    <tr style=\"text-align: right;\">\n",
       "      <th></th>\n",
       "      <th>AccountAge</th>\n",
       "      <th>MonthlyCharges</th>\n",
       "      <th>TotalCharges</th>\n",
       "      <th>SubscriptionType</th>\n",
       "      <th>PaymentMethod</th>\n",
       "      <th>PaperlessBilling</th>\n",
       "      <th>ContentType</th>\n",
       "      <th>MultiDeviceAccess</th>\n",
       "      <th>DeviceRegistered</th>\n",
       "      <th>ViewingHoursPerWeek</th>\n",
       "      <th>AverageViewingDuration</th>\n",
       "      <th>ContentDownloadsPerMonth</th>\n",
       "      <th>GenrePreference</th>\n",
       "      <th>UserRating</th>\n",
       "      <th>SupportTicketsPerMonth</th>\n",
       "      <th>Gender</th>\n",
       "      <th>WatchlistSize</th>\n",
       "      <th>ParentalControl</th>\n",
       "      <th>Churn</th>\n",
       "    </tr>\n",
       "  </thead>\n",
       "  <tbody>\n",
       "    <tr>\n",
       "      <th>0</th>\n",
       "      <td>42</td>\n",
       "      <td>11.321950</td>\n",
       "      <td>475.521914</td>\n",
       "      <td>Basic</td>\n",
       "      <td>Electronic check</td>\n",
       "      <td>Yes</td>\n",
       "      <td>Movies</td>\n",
       "      <td>Yes</td>\n",
       "      <td>Tablet</td>\n",
       "      <td>0.386852</td>\n",
       "      <td>24.593361</td>\n",
       "      <td>25</td>\n",
       "      <td>Comedy</td>\n",
       "      <td>3.489465</td>\n",
       "      <td>7</td>\n",
       "      <td>Female</td>\n",
       "      <td>15</td>\n",
       "      <td>No</td>\n",
       "      <td>0</td>\n",
       "    </tr>\n",
       "    <tr>\n",
       "      <th>1</th>\n",
       "      <td>95</td>\n",
       "      <td>12.810915</td>\n",
       "      <td>1217.036887</td>\n",
       "      <td>Standard</td>\n",
       "      <td>Electronic check</td>\n",
       "      <td>Yes</td>\n",
       "      <td>TV Shows</td>\n",
       "      <td>No</td>\n",
       "      <td>Mobile</td>\n",
       "      <td>37.123000</td>\n",
       "      <td>102.860795</td>\n",
       "      <td>21</td>\n",
       "      <td>Comedy</td>\n",
       "      <td>2.251860</td>\n",
       "      <td>3</td>\n",
       "      <td>Male</td>\n",
       "      <td>8</td>\n",
       "      <td>No</td>\n",
       "      <td>0</td>\n",
       "    </tr>\n",
       "    <tr>\n",
       "      <th>2</th>\n",
       "      <td>6</td>\n",
       "      <td>12.169888</td>\n",
       "      <td>91.583304</td>\n",
       "      <td>Standard</td>\n",
       "      <td>Credit card</td>\n",
       "      <td>Yes</td>\n",
       "      <td>TV Shows</td>\n",
       "      <td>No</td>\n",
       "      <td>Tablet</td>\n",
       "      <td>30.716944</td>\n",
       "      <td>10.512415</td>\n",
       "      <td>29</td>\n",
       "      <td>Fantasy</td>\n",
       "      <td>2.898328</td>\n",
       "      <td>4</td>\n",
       "      <td>Male</td>\n",
       "      <td>14</td>\n",
       "      <td>No</td>\n",
       "      <td>1</td>\n",
       "    </tr>\n",
       "    <tr>\n",
       "      <th>3</th>\n",
       "      <td>54</td>\n",
       "      <td>17.917819</td>\n",
       "      <td>967.562224</td>\n",
       "      <td>Basic</td>\n",
       "      <td>NaN</td>\n",
       "      <td>Yes</td>\n",
       "      <td>Movies</td>\n",
       "      <td>No</td>\n",
       "      <td>Mobile</td>\n",
       "      <td>2.495373</td>\n",
       "      <td>45.246834</td>\n",
       "      <td>45</td>\n",
       "      <td>Drama</td>\n",
       "      <td>1.275004</td>\n",
       "      <td>3</td>\n",
       "      <td>Male</td>\n",
       "      <td>12</td>\n",
       "      <td>No</td>\n",
       "      <td>0</td>\n",
       "    </tr>\n",
       "    <tr>\n",
       "      <th>4</th>\n",
       "      <td>27</td>\n",
       "      <td>12.169888</td>\n",
       "      <td>339.057244</td>\n",
       "      <td>Basic</td>\n",
       "      <td>Mailed check</td>\n",
       "      <td>No</td>\n",
       "      <td>TV Shows</td>\n",
       "      <td>No</td>\n",
       "      <td>Mobile</td>\n",
       "      <td>39.936910</td>\n",
       "      <td>94.310954</td>\n",
       "      <td>44</td>\n",
       "      <td>Comedy</td>\n",
       "      <td>3.236230</td>\n",
       "      <td>4</td>\n",
       "      <td>Female</td>\n",
       "      <td>18</td>\n",
       "      <td>No</td>\n",
       "      <td>0</td>\n",
       "    </tr>\n",
       "  </tbody>\n",
       "</table>\n",
       "</div>"
      ],
      "text/plain": [
       "   AccountAge  MonthlyCharges  TotalCharges SubscriptionType  \\\n",
       "0          42       11.321950    475.521914            Basic   \n",
       "1          95       12.810915   1217.036887         Standard   \n",
       "2           6       12.169888     91.583304         Standard   \n",
       "3          54       17.917819    967.562224            Basic   \n",
       "4          27       12.169888    339.057244            Basic   \n",
       "\n",
       "      PaymentMethod PaperlessBilling ContentType MultiDeviceAccess  \\\n",
       "0  Electronic check              Yes      Movies               Yes   \n",
       "1  Electronic check              Yes    TV Shows                No   \n",
       "2       Credit card              Yes    TV Shows                No   \n",
       "3               NaN              Yes      Movies                No   \n",
       "4      Mailed check               No    TV Shows                No   \n",
       "\n",
       "  DeviceRegistered  ViewingHoursPerWeek  AverageViewingDuration  \\\n",
       "0           Tablet             0.386852               24.593361   \n",
       "1           Mobile            37.123000              102.860795   \n",
       "2           Tablet            30.716944               10.512415   \n",
       "3           Mobile             2.495373               45.246834   \n",
       "4           Mobile            39.936910               94.310954   \n",
       "\n",
       "   ContentDownloadsPerMonth GenrePreference  UserRating  \\\n",
       "0                        25          Comedy    3.489465   \n",
       "1                        21          Comedy    2.251860   \n",
       "2                        29         Fantasy    2.898328   \n",
       "3                        45           Drama    1.275004   \n",
       "4                        44          Comedy    3.236230   \n",
       "\n",
       "   SupportTicketsPerMonth  Gender  WatchlistSize ParentalControl  Churn  \n",
       "0                       7  Female             15              No      0  \n",
       "1                       3    Male              8              No      0  \n",
       "2                       4    Male             14              No      1  \n",
       "3                       3    Male             12              No      0  \n",
       "4                       4  Female             18              No      0  "
      ]
     },
     "execution_count": 3,
     "metadata": {},
     "output_type": "execute_result"
    }
   ],
   "source": [
    "df.head()"
   ]
  },
  {
   "cell_type": "code",
   "execution_count": 4,
   "id": "f9d00e59-df9d-428c-9866-9616f295e528",
   "metadata": {},
   "outputs": [
    {
     "name": "stdout",
     "output_type": "stream",
     "text": [
      "<class 'pandas.core.frame.DataFrame'>\n",
      "RangeIndex: 963 entries, 0 to 962\n",
      "Data columns (total 19 columns):\n",
      " #   Column                    Non-Null Count  Dtype  \n",
      "---  ------                    --------------  -----  \n",
      " 0   AccountAge                963 non-null    int64  \n",
      " 1   MonthlyCharges            963 non-null    float64\n",
      " 2   TotalCharges              963 non-null    float64\n",
      " 3   SubscriptionType          913 non-null    object \n",
      " 4   PaymentMethod             740 non-null    object \n",
      " 5   PaperlessBilling          963 non-null    object \n",
      " 6   ContentType               963 non-null    object \n",
      " 7   MultiDeviceAccess         963 non-null    object \n",
      " 8   DeviceRegistered          887 non-null    object \n",
      " 9   ViewingHoursPerWeek       963 non-null    float64\n",
      " 10  AverageViewingDuration    963 non-null    float64\n",
      " 11  ContentDownloadsPerMonth  963 non-null    int64  \n",
      " 12  GenrePreference           853 non-null    object \n",
      " 13  UserRating                963 non-null    float64\n",
      " 14  SupportTicketsPerMonth    963 non-null    int64  \n",
      " 15  Gender                    923 non-null    object \n",
      " 16  WatchlistSize             963 non-null    int64  \n",
      " 17  ParentalControl           963 non-null    object \n",
      " 18  Churn                     963 non-null    int64  \n",
      "dtypes: float64(5), int64(5), object(9)\n",
      "memory usage: 143.1+ KB\n"
     ]
    }
   ],
   "source": [
    "df.info()"
   ]
  },
  {
   "cell_type": "code",
   "execution_count": 5,
   "id": "5c5825c3-47bd-43c0-aec3-937e629cbe2a",
   "metadata": {},
   "outputs": [
    {
     "data": {
      "text/plain": [
       "(963, 19)"
      ]
     },
     "execution_count": 5,
     "metadata": {},
     "output_type": "execute_result"
    }
   ],
   "source": [
    "df.shape"
   ]
  },
  {
   "cell_type": "code",
   "execution_count": 6,
   "id": "42960d01-91a0-4253-b0f8-a5b23226b6c6",
   "metadata": {},
   "outputs": [
    {
     "data": {
      "text/html": [
       "<div>\n",
       "<style scoped>\n",
       "    .dataframe tbody tr th:only-of-type {\n",
       "        vertical-align: middle;\n",
       "    }\n",
       "\n",
       "    .dataframe tbody tr th {\n",
       "        vertical-align: top;\n",
       "    }\n",
       "\n",
       "    .dataframe thead th {\n",
       "        text-align: right;\n",
       "    }\n",
       "</style>\n",
       "<table border=\"1\" class=\"dataframe\">\n",
       "  <thead>\n",
       "    <tr style=\"text-align: right;\">\n",
       "      <th></th>\n",
       "      <th>AccountAge</th>\n",
       "      <th>MonthlyCharges</th>\n",
       "      <th>TotalCharges</th>\n",
       "      <th>ViewingHoursPerWeek</th>\n",
       "      <th>AverageViewingDuration</th>\n",
       "      <th>ContentDownloadsPerMonth</th>\n",
       "      <th>UserRating</th>\n",
       "      <th>SupportTicketsPerMonth</th>\n",
       "      <th>WatchlistSize</th>\n",
       "      <th>Churn</th>\n",
       "    </tr>\n",
       "  </thead>\n",
       "  <tbody>\n",
       "    <tr>\n",
       "      <th>count</th>\n",
       "      <td>963.000000</td>\n",
       "      <td>963.000000</td>\n",
       "      <td>963.000000</td>\n",
       "      <td>963.000000</td>\n",
       "      <td>963.000000</td>\n",
       "      <td>963.000000</td>\n",
       "      <td>963.000000</td>\n",
       "      <td>963.000000</td>\n",
       "      <td>963.000000</td>\n",
       "      <td>963.000000</td>\n",
       "    </tr>\n",
       "    <tr>\n",
       "      <th>mean</th>\n",
       "      <td>57.515057</td>\n",
       "      <td>12.294712</td>\n",
       "      <td>694.765386</td>\n",
       "      <td>21.029241</td>\n",
       "      <td>90.741877</td>\n",
       "      <td>24.694704</td>\n",
       "      <td>2.917002</td>\n",
       "      <td>4.455867</td>\n",
       "      <td>11.900312</td>\n",
       "      <td>0.175493</td>\n",
       "    </tr>\n",
       "    <tr>\n",
       "      <th>std</th>\n",
       "      <td>33.662575</td>\n",
       "      <td>3.782754</td>\n",
       "      <td>460.704149</td>\n",
       "      <td>11.318164</td>\n",
       "      <td>49.923719</td>\n",
       "      <td>14.319572</td>\n",
       "      <td>0.995395</td>\n",
       "      <td>2.935706</td>\n",
       "      <td>7.117402</td>\n",
       "      <td>0.380586</td>\n",
       "    </tr>\n",
       "    <tr>\n",
       "      <th>min</th>\n",
       "      <td>1.000000</td>\n",
       "      <td>5.062339</td>\n",
       "      <td>11.582882</td>\n",
       "      <td>0.315317</td>\n",
       "      <td>5.028412</td>\n",
       "      <td>0.000000</td>\n",
       "      <td>1.000181</td>\n",
       "      <td>0.000000</td>\n",
       "      <td>0.000000</td>\n",
       "      <td>0.000000</td>\n",
       "    </tr>\n",
       "    <tr>\n",
       "      <th>25%</th>\n",
       "      <td>29.000000</td>\n",
       "      <td>9.576123</td>\n",
       "      <td>377.052449</td>\n",
       "      <td>11.621961</td>\n",
       "      <td>47.777701</td>\n",
       "      <td>13.000000</td>\n",
       "      <td>2.275808</td>\n",
       "      <td>2.000000</td>\n",
       "      <td>6.000000</td>\n",
       "      <td>0.000000</td>\n",
       "    </tr>\n",
       "    <tr>\n",
       "      <th>50%</th>\n",
       "      <td>55.000000</td>\n",
       "      <td>12.169888</td>\n",
       "      <td>614.196606</td>\n",
       "      <td>21.334100</td>\n",
       "      <td>89.878241</td>\n",
       "      <td>25.000000</td>\n",
       "      <td>2.898328</td>\n",
       "      <td>5.000000</td>\n",
       "      <td>12.000000</td>\n",
       "      <td>0.000000</td>\n",
       "    </tr>\n",
       "    <tr>\n",
       "      <th>75%</th>\n",
       "      <td>86.000000</td>\n",
       "      <td>15.012909</td>\n",
       "      <td>895.658870</td>\n",
       "      <td>30.419851</td>\n",
       "      <td>134.353824</td>\n",
       "      <td>37.000000</td>\n",
       "      <td>3.522727</td>\n",
       "      <td>7.000000</td>\n",
       "      <td>18.000000</td>\n",
       "      <td>0.000000</td>\n",
       "    </tr>\n",
       "    <tr>\n",
       "      <th>max</th>\n",
       "      <td>119.000000</td>\n",
       "      <td>19.932542</td>\n",
       "      <td>2261.019201</td>\n",
       "      <td>39.949086</td>\n",
       "      <td>179.752024</td>\n",
       "      <td>49.000000</td>\n",
       "      <td>4.997348</td>\n",
       "      <td>9.000000</td>\n",
       "      <td>24.000000</td>\n",
       "      <td>1.000000</td>\n",
       "    </tr>\n",
       "  </tbody>\n",
       "</table>\n",
       "</div>"
      ],
      "text/plain": [
       "       AccountAge  MonthlyCharges  TotalCharges  ViewingHoursPerWeek  \\\n",
       "count  963.000000      963.000000    963.000000           963.000000   \n",
       "mean    57.515057       12.294712    694.765386            21.029241   \n",
       "std     33.662575        3.782754    460.704149            11.318164   \n",
       "min      1.000000        5.062339     11.582882             0.315317   \n",
       "25%     29.000000        9.576123    377.052449            11.621961   \n",
       "50%     55.000000       12.169888    614.196606            21.334100   \n",
       "75%     86.000000       15.012909    895.658870            30.419851   \n",
       "max    119.000000       19.932542   2261.019201            39.949086   \n",
       "\n",
       "       AverageViewingDuration  ContentDownloadsPerMonth  UserRating  \\\n",
       "count              963.000000                963.000000  963.000000   \n",
       "mean                90.741877                 24.694704    2.917002   \n",
       "std                 49.923719                 14.319572    0.995395   \n",
       "min                  5.028412                  0.000000    1.000181   \n",
       "25%                 47.777701                 13.000000    2.275808   \n",
       "50%                 89.878241                 25.000000    2.898328   \n",
       "75%                134.353824                 37.000000    3.522727   \n",
       "max                179.752024                 49.000000    4.997348   \n",
       "\n",
       "       SupportTicketsPerMonth  WatchlistSize       Churn  \n",
       "count              963.000000     963.000000  963.000000  \n",
       "mean                 4.455867      11.900312    0.175493  \n",
       "std                  2.935706       7.117402    0.380586  \n",
       "min                  0.000000       0.000000    0.000000  \n",
       "25%                  2.000000       6.000000    0.000000  \n",
       "50%                  5.000000      12.000000    0.000000  \n",
       "75%                  7.000000      18.000000    0.000000  \n",
       "max                  9.000000      24.000000    1.000000  "
      ]
     },
     "execution_count": 6,
     "metadata": {},
     "output_type": "execute_result"
    }
   ],
   "source": [
    "df.describe()"
   ]
  },
  {
   "cell_type": "markdown",
   "id": "b2fdcedd-1dc5-47cb-badf-aedb45e49b50",
   "metadata": {},
   "source": [
    "###### df.isnull().sum()"
   ]
  },
  {
   "cell_type": "code",
   "execution_count": 7,
   "id": "1571a89a-975d-4cc2-9b47-28c78f2d7408",
   "metadata": {},
   "outputs": [
    {
     "name": "stdout",
     "output_type": "stream",
     "text": [
      "<class 'pandas.core.frame.DataFrame'>\n",
      "RangeIndex: 963 entries, 0 to 962\n",
      "Data columns (total 19 columns):\n",
      " #   Column                    Non-Null Count  Dtype  \n",
      "---  ------                    --------------  -----  \n",
      " 0   AccountAge                963 non-null    int64  \n",
      " 1   MonthlyCharges            963 non-null    float64\n",
      " 2   TotalCharges              963 non-null    float64\n",
      " 3   SubscriptionType          913 non-null    object \n",
      " 4   PaymentMethod             740 non-null    object \n",
      " 5   PaperlessBilling          963 non-null    object \n",
      " 6   ContentType               963 non-null    object \n",
      " 7   MultiDeviceAccess         963 non-null    object \n",
      " 8   DeviceRegistered          887 non-null    object \n",
      " 9   ViewingHoursPerWeek       963 non-null    float64\n",
      " 10  AverageViewingDuration    963 non-null    float64\n",
      " 11  ContentDownloadsPerMonth  963 non-null    int64  \n",
      " 12  GenrePreference           853 non-null    object \n",
      " 13  UserRating                963 non-null    float64\n",
      " 14  SupportTicketsPerMonth    963 non-null    int64  \n",
      " 15  Gender                    923 non-null    object \n",
      " 16  WatchlistSize             963 non-null    int64  \n",
      " 17  ParentalControl           963 non-null    object \n",
      " 18  Churn                     963 non-null    int64  \n",
      "dtypes: float64(5), int64(5), object(9)\n",
      "memory usage: 143.1+ KB\n"
     ]
    }
   ],
   "source": [
    "df.info()\n"
   ]
  },
  {
   "cell_type": "code",
   "execution_count": 8,
   "id": "5ea3606b-d2e2-4ba9-9fe7-688b61a2d41e",
   "metadata": {},
   "outputs": [
    {
     "data": {
      "text/plain": [
       "AccountAge                    0\n",
       "MonthlyCharges                0\n",
       "TotalCharges                  0\n",
       "SubscriptionType             50\n",
       "PaymentMethod               223\n",
       "PaperlessBilling              0\n",
       "ContentType                   0\n",
       "MultiDeviceAccess             0\n",
       "DeviceRegistered             76\n",
       "ViewingHoursPerWeek           0\n",
       "AverageViewingDuration        0\n",
       "ContentDownloadsPerMonth      0\n",
       "GenrePreference             110\n",
       "UserRating                    0\n",
       "SupportTicketsPerMonth        0\n",
       "Gender                       40\n",
       "WatchlistSize                 0\n",
       "ParentalControl               0\n",
       "Churn                         0\n",
       "dtype: int64"
      ]
     },
     "execution_count": 8,
     "metadata": {},
     "output_type": "execute_result"
    }
   ],
   "source": [
    "df.isnull().sum()\n"
   ]
  },
  {
   "cell_type": "code",
   "execution_count": 9,
   "id": "9ee86af6-d8d6-4058-9842-1400323e07d3",
   "metadata": {},
   "outputs": [],
   "source": [
    "# Impute 'SubscriptionType' with its mode\n",
    "df['SubscriptionType'] = df['SubscriptionType'].fillna(df['SubscriptionType'].mode()[0])\n",
    "\n",
    "# Impute 'PaymentMethod' with its mode\n",
    "df['PaymentMethod'] = df['PaymentMethod'].fillna(df['PaymentMethod'].mode()[0])\n",
    "\n",
    "# Impute 'DeviceRegistered' with its mode\n",
    "df['DeviceRegistered'] = df['DeviceRegistered'].fillna(df['DeviceRegistered'].mode()[0])\n",
    "\n",
    "# Impute 'GenrePreference' with its mode\n",
    "df['GenrePreference'] = df['GenrePreference'].fillna(df['GenrePreference'].mode()[0])\n",
    "\n",
    "# Impute 'Gender' with its mode\n",
    "df['Gender'] = df['Gender'].fillna(df['Gender'].mode()[0])"
   ]
  },
  {
   "cell_type": "code",
   "execution_count": 10,
   "id": "d3f5f01e-6ef2-43bf-83af-b56473e69009",
   "metadata": {},
   "outputs": [
    {
     "data": {
      "text/plain": [
       "AccountAge                  0\n",
       "MonthlyCharges              0\n",
       "TotalCharges                0\n",
       "SubscriptionType            0\n",
       "PaymentMethod               0\n",
       "PaperlessBilling            0\n",
       "ContentType                 0\n",
       "MultiDeviceAccess           0\n",
       "DeviceRegistered            0\n",
       "ViewingHoursPerWeek         0\n",
       "AverageViewingDuration      0\n",
       "ContentDownloadsPerMonth    0\n",
       "GenrePreference             0\n",
       "UserRating                  0\n",
       "SupportTicketsPerMonth      0\n",
       "Gender                      0\n",
       "WatchlistSize               0\n",
       "ParentalControl             0\n",
       "Churn                       0\n",
       "dtype: int64"
      ]
     },
     "execution_count": 10,
     "metadata": {},
     "output_type": "execute_result"
    }
   ],
   "source": [
    "df.isnull().sum()"
   ]
  },
  {
   "cell_type": "code",
   "execution_count": 11,
   "id": "b522e493-de74-4b59-b478-57d90e4f0346",
   "metadata": {},
   "outputs": [
    {
     "name": "stdout",
     "output_type": "stream",
     "text": [
      "<class 'pandas.core.frame.DataFrame'>\n",
      "RangeIndex: 963 entries, 0 to 962\n",
      "Data columns (total 19 columns):\n",
      " #   Column                    Non-Null Count  Dtype  \n",
      "---  ------                    --------------  -----  \n",
      " 0   AccountAge                963 non-null    int64  \n",
      " 1   MonthlyCharges            963 non-null    float64\n",
      " 2   TotalCharges              963 non-null    float64\n",
      " 3   SubscriptionType          963 non-null    object \n",
      " 4   PaymentMethod             963 non-null    object \n",
      " 5   PaperlessBilling          963 non-null    object \n",
      " 6   ContentType               963 non-null    object \n",
      " 7   MultiDeviceAccess         963 non-null    object \n",
      " 8   DeviceRegistered          963 non-null    object \n",
      " 9   ViewingHoursPerWeek       963 non-null    float64\n",
      " 10  AverageViewingDuration    963 non-null    float64\n",
      " 11  ContentDownloadsPerMonth  963 non-null    int64  \n",
      " 12  GenrePreference           963 non-null    object \n",
      " 13  UserRating                963 non-null    float64\n",
      " 14  SupportTicketsPerMonth    963 non-null    int64  \n",
      " 15  Gender                    963 non-null    object \n",
      " 16  WatchlistSize             963 non-null    int64  \n",
      " 17  ParentalControl           963 non-null    object \n",
      " 18  Churn                     963 non-null    int64  \n",
      "dtypes: float64(5), int64(5), object(9)\n",
      "memory usage: 143.1+ KB\n"
     ]
    }
   ],
   "source": [
    "df.info()"
   ]
  },
  {
   "cell_type": "code",
   "execution_count": 12,
   "id": "c0d2792b-6d6a-4bfb-a313-8e1499c780e4",
   "metadata": {},
   "outputs": [
    {
     "name": "stdout",
     "output_type": "stream",
     "text": [
      "<class 'pandas.core.frame.DataFrame'>\n",
      "RangeIndex: 963 entries, 0 to 962\n",
      "Data columns (total 19 columns):\n",
      " #   Column                    Non-Null Count  Dtype  \n",
      "---  ------                    --------------  -----  \n",
      " 0   AccountAge                963 non-null    int64  \n",
      " 1   MonthlyCharges            963 non-null    float64\n",
      " 2   TotalCharges              963 non-null    float64\n",
      " 3   SubscriptionType          963 non-null    object \n",
      " 4   PaymentMethod             963 non-null    object \n",
      " 5   PaperlessBilling          963 non-null    object \n",
      " 6   ContentType               963 non-null    object \n",
      " 7   MultiDeviceAccess         963 non-null    object \n",
      " 8   DeviceRegistered          963 non-null    object \n",
      " 9   ViewingHoursPerWeek       963 non-null    float64\n",
      " 10  AverageViewingDuration    963 non-null    float64\n",
      " 11  ContentDownloadsPerMonth  963 non-null    int64  \n",
      " 12  GenrePreference           963 non-null    object \n",
      " 13  UserRating                963 non-null    float64\n",
      " 14  SupportTicketsPerMonth    963 non-null    int64  \n",
      " 15  Gender                    963 non-null    object \n",
      " 16  WatchlistSize             963 non-null    int64  \n",
      " 17  ParentalControl           963 non-null    object \n",
      " 18  Churn                     963 non-null    int64  \n",
      "dtypes: float64(5), int64(5), object(9)\n",
      "memory usage: 143.1+ KB\n"
     ]
    }
   ],
   "source": [
    "df.info()"
   ]
  },
  {
   "cell_type": "code",
   "execution_count": 13,
   "id": "0e49b303-6e7b-4fd6-ac8c-9a194dc1c858",
   "metadata": {},
   "outputs": [
    {
     "name": "stdout",
     "output_type": "stream",
     "text": [
      "<class 'pandas.core.frame.DataFrame'>\n",
      "RangeIndex: 963 entries, 0 to 962\n",
      "Data columns (total 19 columns):\n",
      " #   Column                    Non-Null Count  Dtype  \n",
      "---  ------                    --------------  -----  \n",
      " 0   AccountAge                963 non-null    int64  \n",
      " 1   MonthlyCharges            963 non-null    float64\n",
      " 2   TotalCharges              963 non-null    float64\n",
      " 3   SubscriptionType          963 non-null    object \n",
      " 4   PaymentMethod             963 non-null    object \n",
      " 5   PaperlessBilling          963 non-null    object \n",
      " 6   ContentType               963 non-null    object \n",
      " 7   MultiDeviceAccess         963 non-null    object \n",
      " 8   DeviceRegistered          963 non-null    object \n",
      " 9   ViewingHoursPerWeek       963 non-null    float64\n",
      " 10  AverageViewingDuration    963 non-null    float64\n",
      " 11  ContentDownloadsPerMonth  963 non-null    int64  \n",
      " 12  GenrePreference           963 non-null    object \n",
      " 13  UserRating                963 non-null    float64\n",
      " 14  SupportTicketsPerMonth    963 non-null    int64  \n",
      " 15  Gender                    963 non-null    object \n",
      " 16  WatchlistSize             963 non-null    int64  \n",
      " 17  ParentalControl           963 non-null    object \n",
      " 18  Churn                     963 non-null    int64  \n",
      "dtypes: float64(5), int64(5), object(9)\n",
      "memory usage: 143.1+ KB\n"
     ]
    }
   ],
   "source": [
    "df.info()"
   ]
  },
  {
   "cell_type": "code",
   "execution_count": 14,
   "id": "07462efa-49c8-4484-9eb7-6960486ec335",
   "metadata": {},
   "outputs": [
    {
     "name": "stdout",
     "output_type": "stream",
     "text": [
      "Unique values in 'SubscriptionType':\n",
      "['Basic' 'Standard' 'Premium']\n",
      "------------------------------\n",
      "Unique values in 'PaymentMethod':\n",
      "['Electronic check' 'Credit card' 'Mailed check' 'Bank transfer']\n",
      "------------------------------\n",
      "Unique values in 'PaperlessBilling':\n",
      "['Yes' 'No']\n",
      "------------------------------\n",
      "Unique values in 'ContentType':\n",
      "['Movies' 'TV Shows' 'Both']\n",
      "------------------------------\n",
      "Unique values in 'MultiDeviceAccess':\n",
      "['Yes' 'No']\n",
      "------------------------------\n",
      "Unique values in 'DeviceRegistered':\n",
      "['Tablet' 'Mobile' 'Computer' 'TV']\n",
      "------------------------------\n",
      "Unique values in 'GenrePreference':\n",
      "['Comedy' 'Fantasy' 'Drama' 'Sci-Fi' 'Action']\n",
      "------------------------------\n",
      "Unique values in 'Gender':\n",
      "['Female' 'Male']\n",
      "------------------------------\n",
      "Unique values in 'ParentalControl':\n",
      "['No' 'Yes']\n",
      "------------------------------\n"
     ]
    }
   ],
   "source": [
    "# List of categorical columns we defined earlier\n",
    "categorical_cols = [\n",
    "    'SubscriptionType', 'PaymentMethod', 'PaperlessBilling',\n",
    "    'ContentType', 'MultiDeviceAccess', 'DeviceRegistered',\n",
    "    'GenrePreference', 'Gender', 'ParentalControl'\n",
    "]\n",
    "\n",
    "# Loop through each column and print its unique values\n",
    "for col in categorical_cols:\n",
    "    print(f\"Unique values in '{col}':\")\n",
    "    print(df[col].unique())\n",
    "    print(\"-\" * 30) # Just a separator for readability"
   ]
  },
  {
   "cell_type": "code",
   "execution_count": 15,
   "id": "a3029c02-e806-41ab-a755-eb3df6acdbcb",
   "metadata": {},
   "outputs": [],
   "source": [
    "# Part 1: List of categorical columns to encode\n",
    "categorical_cols = [\n",
    "    'SubscriptionType', 'PaymentMethod', 'PaperlessBilling',\n",
    "    'ContentType', 'MultiDeviceAccess', 'DeviceRegistered',\n",
    "    'GenrePreference', 'Gender', 'ParentalControl'\n",
    "]\n",
    "\n",
    "# Part 2: Apply One-Hot Encoding and update our DataFrame\n",
    "df = pd.get_dummies(df, columns=categorical_cols, drop_first=True)"
   ]
  },
  {
   "cell_type": "code",
   "execution_count": 16,
   "id": "a3723c88-1074-458d-bd7d-fcfc4b77f492",
   "metadata": {},
   "outputs": [
    {
     "name": "stdout",
     "output_type": "stream",
     "text": [
      "<class 'pandas.core.frame.DataFrame'>\n",
      "RangeIndex: 963 entries, 0 to 962\n",
      "Data columns (total 28 columns):\n",
      " #   Column                          Non-Null Count  Dtype  \n",
      "---  ------                          --------------  -----  \n",
      " 0   AccountAge                      963 non-null    int64  \n",
      " 1   MonthlyCharges                  963 non-null    float64\n",
      " 2   TotalCharges                    963 non-null    float64\n",
      " 3   ViewingHoursPerWeek             963 non-null    float64\n",
      " 4   AverageViewingDuration          963 non-null    float64\n",
      " 5   ContentDownloadsPerMonth        963 non-null    int64  \n",
      " 6   UserRating                      963 non-null    float64\n",
      " 7   SupportTicketsPerMonth          963 non-null    int64  \n",
      " 8   WatchlistSize                   963 non-null    int64  \n",
      " 9   Churn                           963 non-null    int64  \n",
      " 10  SubscriptionType_Premium        963 non-null    bool   \n",
      " 11  SubscriptionType_Standard       963 non-null    bool   \n",
      " 12  PaymentMethod_Credit card       963 non-null    bool   \n",
      " 13  PaymentMethod_Electronic check  963 non-null    bool   \n",
      " 14  PaymentMethod_Mailed check      963 non-null    bool   \n",
      " 15  PaperlessBilling_Yes            963 non-null    bool   \n",
      " 16  ContentType_Movies              963 non-null    bool   \n",
      " 17  ContentType_TV Shows            963 non-null    bool   \n",
      " 18  MultiDeviceAccess_Yes           963 non-null    bool   \n",
      " 19  DeviceRegistered_Mobile         963 non-null    bool   \n",
      " 20  DeviceRegistered_TV             963 non-null    bool   \n",
      " 21  DeviceRegistered_Tablet         963 non-null    bool   \n",
      " 22  GenrePreference_Comedy          963 non-null    bool   \n",
      " 23  GenrePreference_Drama           963 non-null    bool   \n",
      " 24  GenrePreference_Fantasy         963 non-null    bool   \n",
      " 25  GenrePreference_Sci-Fi          963 non-null    bool   \n",
      " 26  Gender_Male                     963 non-null    bool   \n",
      " 27  ParentalControl_Yes             963 non-null    bool   \n",
      "dtypes: bool(18), float64(5), int64(5)\n",
      "memory usage: 92.3 KB\n"
     ]
    }
   ],
   "source": [
    "df.info()"
   ]
  },
  {
   "cell_type": "code",
   "execution_count": 17,
   "id": "1b88370c-893b-4267-bb48-c4ed75bed674",
   "metadata": {},
   "outputs": [],
   "source": [
    "from sklearn.preprocessing import StandardScaler\n",
    "\n",
    "# List of numerical columns to scale (excluding 'Churn' as it's our target)\n",
    "numerical_cols = [\n",
    "    'AccountAge', 'MonthlyCharges', 'TotalCharges',\n",
    "    'ViewingHoursPerWeek', 'AverageViewingDuration',\n",
    "    'ContentDownloadsPerMonth', 'UserRating',\n",
    "    'SupportTicketsPerMonth', 'WatchlistSize'\n",
    "]\n",
    "\n",
    "# Initialize the StandardScaler\n",
    "scaler = StandardScaler()\n",
    "\n",
    "# Apply scaling to the selected numerical columns\n",
    "df[numerical_cols] = scaler.fit_transform(df[numerical_cols])"
   ]
  },
  {
   "cell_type": "code",
   "execution_count": 18,
   "id": "32a5915f-758b-4e6b-8b8b-581f368852b1",
   "metadata": {},
   "outputs": [
    {
     "data": {
      "text/html": [
       "<div>\n",
       "<style scoped>\n",
       "    .dataframe tbody tr th:only-of-type {\n",
       "        vertical-align: middle;\n",
       "    }\n",
       "\n",
       "    .dataframe tbody tr th {\n",
       "        vertical-align: top;\n",
       "    }\n",
       "\n",
       "    .dataframe thead th {\n",
       "        text-align: right;\n",
       "    }\n",
       "</style>\n",
       "<table border=\"1\" class=\"dataframe\">\n",
       "  <thead>\n",
       "    <tr style=\"text-align: right;\">\n",
       "      <th></th>\n",
       "      <th>AccountAge</th>\n",
       "      <th>MonthlyCharges</th>\n",
       "      <th>TotalCharges</th>\n",
       "      <th>ViewingHoursPerWeek</th>\n",
       "      <th>AverageViewingDuration</th>\n",
       "      <th>ContentDownloadsPerMonth</th>\n",
       "      <th>UserRating</th>\n",
       "      <th>SupportTicketsPerMonth</th>\n",
       "      <th>WatchlistSize</th>\n",
       "      <th>Churn</th>\n",
       "    </tr>\n",
       "  </thead>\n",
       "  <tbody>\n",
       "    <tr>\n",
       "      <th>count</th>\n",
       "      <td>9.630000e+02</td>\n",
       "      <td>9.630000e+02</td>\n",
       "      <td>9.630000e+02</td>\n",
       "      <td>9.630000e+02</td>\n",
       "      <td>9.630000e+02</td>\n",
       "      <td>9.630000e+02</td>\n",
       "      <td>9.630000e+02</td>\n",
       "      <td>9.630000e+02</td>\n",
       "      <td>9.630000e+02</td>\n",
       "      <td>963.000000</td>\n",
       "    </tr>\n",
       "    <tr>\n",
       "      <th>mean</th>\n",
       "      <td>-8.854115e-17</td>\n",
       "      <td>-3.043602e-17</td>\n",
       "      <td>2.250421e-16</td>\n",
       "      <td>2.287313e-16</td>\n",
       "      <td>-1.272779e-16</td>\n",
       "      <td>-1.844607e-17</td>\n",
       "      <td>-4.242597e-17</td>\n",
       "      <td>8.669654e-17</td>\n",
       "      <td>1.106764e-17</td>\n",
       "      <td>0.175493</td>\n",
       "    </tr>\n",
       "    <tr>\n",
       "      <th>std</th>\n",
       "      <td>1.000520e+00</td>\n",
       "      <td>1.000520e+00</td>\n",
       "      <td>1.000520e+00</td>\n",
       "      <td>1.000520e+00</td>\n",
       "      <td>1.000520e+00</td>\n",
       "      <td>1.000520e+00</td>\n",
       "      <td>1.000520e+00</td>\n",
       "      <td>1.000520e+00</td>\n",
       "      <td>1.000520e+00</td>\n",
       "      <td>0.380586</td>\n",
       "    </tr>\n",
       "    <tr>\n",
       "      <th>min</th>\n",
       "      <td>-1.679741e+00</td>\n",
       "      <td>-1.912927e+00</td>\n",
       "      <td>-1.483680e+00</td>\n",
       "      <td>-1.831100e+00</td>\n",
       "      <td>-1.717781e+00</td>\n",
       "      <td>-1.725438e+00</td>\n",
       "      <td>-1.926689e+00</td>\n",
       "      <td>-1.518606e+00</td>\n",
       "      <td>-1.672871e+00</td>\n",
       "      <td>0.000000</td>\n",
       "    </tr>\n",
       "    <tr>\n",
       "      <th>25%</th>\n",
       "      <td>-8.475250e-01</td>\n",
       "      <td>-7.190533e-01</td>\n",
       "      <td>-6.899830e-01</td>\n",
       "      <td>-8.315985e-01</td>\n",
       "      <td>-8.610436e-01</td>\n",
       "      <td>-8.171180e-01</td>\n",
       "      <td>-6.444955e-01</td>\n",
       "      <td>-8.369853e-01</td>\n",
       "      <td>-8.294287e-01</td>\n",
       "      <td>0.000000</td>\n",
       "    </tr>\n",
       "    <tr>\n",
       "      <th>50%</th>\n",
       "      <td>-7.475257e-02</td>\n",
       "      <td>-3.301548e-02</td>\n",
       "      <td>-1.749727e-01</td>\n",
       "      <td>2.694935e-02</td>\n",
       "      <td>-1.730810e-02</td>\n",
       "      <td>2.133126e-02</td>\n",
       "      <td>-1.877041e-02</td>\n",
       "      <td>1.854462e-01</td>\n",
       "      <td>1.401358e-02</td>\n",
       "      <td>0.000000</td>\n",
       "    </tr>\n",
       "    <tr>\n",
       "      <th>75%</th>\n",
       "      <td>8.466299e-01</td>\n",
       "      <td>7.189496e-01</td>\n",
       "      <td>4.362840e-01</td>\n",
       "      <td>8.301248e-01</td>\n",
       "      <td>8.740256e-01</td>\n",
       "      <td>8.597806e-01</td>\n",
       "      <td>6.088435e-01</td>\n",
       "      <td>8.670672e-01</td>\n",
       "      <td>8.574558e-01</td>\n",
       "      <td>0.000000</td>\n",
       "    </tr>\n",
       "    <tr>\n",
       "      <th>max</th>\n",
       "      <td>1.827457e+00</td>\n",
       "      <td>2.020168e+00</td>\n",
       "      <td>3.401462e+00</td>\n",
       "      <td>1.672504e+00</td>\n",
       "      <td>1.783849e+00</td>\n",
       "      <td>1.698230e+00</td>\n",
       "      <td>2.091056e+00</td>\n",
       "      <td>1.548688e+00</td>\n",
       "      <td>1.700898e+00</td>\n",
       "      <td>1.000000</td>\n",
       "    </tr>\n",
       "  </tbody>\n",
       "</table>\n",
       "</div>"
      ],
      "text/plain": [
       "         AccountAge  MonthlyCharges  TotalCharges  ViewingHoursPerWeek  \\\n",
       "count  9.630000e+02    9.630000e+02  9.630000e+02         9.630000e+02   \n",
       "mean  -8.854115e-17   -3.043602e-17  2.250421e-16         2.287313e-16   \n",
       "std    1.000520e+00    1.000520e+00  1.000520e+00         1.000520e+00   \n",
       "min   -1.679741e+00   -1.912927e+00 -1.483680e+00        -1.831100e+00   \n",
       "25%   -8.475250e-01   -7.190533e-01 -6.899830e-01        -8.315985e-01   \n",
       "50%   -7.475257e-02   -3.301548e-02 -1.749727e-01         2.694935e-02   \n",
       "75%    8.466299e-01    7.189496e-01  4.362840e-01         8.301248e-01   \n",
       "max    1.827457e+00    2.020168e+00  3.401462e+00         1.672504e+00   \n",
       "\n",
       "       AverageViewingDuration  ContentDownloadsPerMonth    UserRating  \\\n",
       "count            9.630000e+02              9.630000e+02  9.630000e+02   \n",
       "mean            -1.272779e-16             -1.844607e-17 -4.242597e-17   \n",
       "std              1.000520e+00              1.000520e+00  1.000520e+00   \n",
       "min             -1.717781e+00             -1.725438e+00 -1.926689e+00   \n",
       "25%             -8.610436e-01             -8.171180e-01 -6.444955e-01   \n",
       "50%             -1.730810e-02              2.133126e-02 -1.877041e-02   \n",
       "75%              8.740256e-01              8.597806e-01  6.088435e-01   \n",
       "max              1.783849e+00              1.698230e+00  2.091056e+00   \n",
       "\n",
       "       SupportTicketsPerMonth  WatchlistSize       Churn  \n",
       "count            9.630000e+02   9.630000e+02  963.000000  \n",
       "mean             8.669654e-17   1.106764e-17    0.175493  \n",
       "std              1.000520e+00   1.000520e+00    0.380586  \n",
       "min             -1.518606e+00  -1.672871e+00    0.000000  \n",
       "25%             -8.369853e-01  -8.294287e-01    0.000000  \n",
       "50%              1.854462e-01   1.401358e-02    0.000000  \n",
       "75%              8.670672e-01   8.574558e-01    0.000000  \n",
       "max              1.548688e+00   1.700898e+00    1.000000  "
      ]
     },
     "execution_count": 18,
     "metadata": {},
     "output_type": "execute_result"
    }
   ],
   "source": [
    "df.describe()"
   ]
  },
  {
   "cell_type": "code",
   "execution_count": 19,
   "id": "22b06bf6-9ba1-44d7-8dd8-fa1887925f5f",
   "metadata": {},
   "outputs": [
    {
     "name": "stdout",
     "output_type": "stream",
     "text": [
      "X_train shape: (770, 27)\n",
      "X_test shape: (193, 27)\n",
      "y_train shape: (770,)\n",
      "y_test shape: (193,)\n"
     ]
    }
   ],
   "source": [
    "from sklearn.model_selection import train_test_split\n",
    "\n",
    "# Define features (X) and target (y)\n",
    "# X includes all columns except 'Churn'\n",
    "X = df.drop('Churn', axis=1)\n",
    "# y is just the 'Churn' column\n",
    "y = df['Churn']\n",
    "\n",
    "# Split the data into training and testing sets\n",
    "# test_size=0.20 means 20% of data will be for testing, 80% for training\n",
    "# random_state ensures we get the same split every time we run the code,\n",
    "# which is important for reproducibility.\n",
    "X_train, X_test, y_train, y_test = train_test_split(X, y, test_size=0.20, random_state=42)\n",
    "\n",
    "# Print the shapes of the new datasets to confirm the split\n",
    "print(\"X_train shape:\", X_train.shape)\n",
    "print(\"X_test shape:\", X_test.shape)\n",
    "print(\"y_train shape:\", y_train.shape)\n",
    "print(\"y_test shape:\", y_test.shape)"
   ]
  },
  {
   "cell_type": "code",
   "execution_count": 20,
   "id": "a2b7b64c-07ce-4f44-a895-3944a6b651d5",
   "metadata": {},
   "outputs": [
    {
     "name": "stdout",
     "output_type": "stream",
     "text": [
      "Logistic Regression model initialized and ready for training.\n"
     ]
    }
   ],
   "source": [
    "from sklearn.linear_model import LogisticRegression\n",
    "\n",
    "# Initialize the Logistic Regression model\n",
    "model = LogisticRegression(random_state=42)\n",
    "\n",
    "print(\"Logistic Regression model initialized and ready for training.\")"
   ]
  },
  {
   "cell_type": "code",
   "execution_count": 21,
   "id": "771620e4-2a1a-4a28-8590-b58a9ef9b975",
   "metadata": {},
   "outputs": [
    {
     "name": "stdout",
     "output_type": "stream",
     "text": [
      "Model training complete!\n"
     ]
    }
   ],
   "source": [
    "# Train the model using the training data\n",
    "model.fit(X_train, y_train)\n",
    "\n",
    "print(\"Model training complete!\")"
   ]
  },
  {
   "cell_type": "code",
   "execution_count": 22,
   "id": "fb447790-6aa3-4e15-aca9-12f54cdf6385",
   "metadata": {},
   "outputs": [
    {
     "name": "stdout",
     "output_type": "stream",
     "text": [
      "Predictions on the test set generated!\n"
     ]
    }
   ],
   "source": [
    "# Make predictions on the test set\n",
    "y_pred = model.predict(X_test)\n",
    "\n",
    "print(\"Predictions on the test set generated!\")"
   ]
  },
  {
   "cell_type": "code",
   "execution_count": 23,
   "id": "85788531-0da2-44e8-a21d-7995e710be95",
   "metadata": {},
   "outputs": [
    {
     "name": "stdout",
     "output_type": "stream",
     "text": [
      "Model Accuracy on the Test Set: 0.8083\n"
     ]
    }
   ],
   "source": [
    "from sklearn.metrics import accuracy_score\n",
    "\n",
    "# Calculate the accuracy score\n",
    "accuracy = accuracy_score(y_test, y_pred)\n",
    "\n",
    "print(f\"Model Accuracy on the Test Set: {accuracy:.4f}\")"
   ]
  },
  {
   "cell_type": "code",
   "execution_count": 24,
   "id": "052d1298-28b8-4907-b6ef-cbc0bd2cc8f0",
   "metadata": {},
   "outputs": [
    {
     "name": "stdout",
     "output_type": "stream",
     "text": [
      "Confusion Matrix:\n",
      "[[150   3]\n",
      " [ 34   6]]\n"
     ]
    }
   ],
   "source": [
    "from sklearn.metrics import confusion_matrix\n",
    "\n",
    "# Generate the confusion matrix\n",
    "cm = confusion_matrix(y_test, y_pred)\n",
    "\n",
    "print(\"Confusion Matrix:\")\n",
    "print(cm)"
   ]
  },
  {
   "cell_type": "code",
   "execution_count": 25,
   "id": "0a0b8390-9974-475b-977a-61cf4c2b1bfb",
   "metadata": {},
   "outputs": [
    {
     "name": "stdout",
     "output_type": "stream",
     "text": [
      "Classification Report:\n",
      "              precision    recall  f1-score   support\n",
      "\n",
      "           0       0.82      0.98      0.89       153\n",
      "           1       0.67      0.15      0.24        40\n",
      "\n",
      "    accuracy                           0.81       193\n",
      "   macro avg       0.74      0.57      0.57       193\n",
      "weighted avg       0.78      0.81      0.76       193\n",
      "\n"
     ]
    }
   ],
   "source": [
    "from sklearn.metrics import classification_report\n",
    "\n",
    "# Generate the classification report\n",
    "report = classification_report(y_test, y_pred)\n",
    "\n",
    "print(\"Classification Report:\")\n",
    "print(report)"
   ]
  },
  {
   "cell_type": "code",
   "execution_count": 26,
   "id": "1014170a-96d4-4f84-9b44-f6c5bbea83c6",
   "metadata": {},
   "outputs": [
    {
     "name": "stdout",
     "output_type": "stream",
     "text": [
      "Requirement already satisfied: imblearn in /opt/anaconda3/lib/python3.12/site-packages (0.0)\n",
      "Requirement already satisfied: imbalanced-learn in /opt/anaconda3/lib/python3.12/site-packages (from imblearn) (0.12.3)\n",
      "Requirement already satisfied: numpy>=1.17.3 in /opt/anaconda3/lib/python3.12/site-packages (from imbalanced-learn->imblearn) (1.26.4)\n",
      "Requirement already satisfied: scipy>=1.5.0 in /opt/anaconda3/lib/python3.12/site-packages (from imbalanced-learn->imblearn) (1.13.1)\n",
      "Requirement already satisfied: scikit-learn>=1.0.2 in /opt/anaconda3/lib/python3.12/site-packages (from imbalanced-learn->imblearn) (1.5.1)\n",
      "Requirement already satisfied: joblib>=1.1.1 in /opt/anaconda3/lib/python3.12/site-packages (from imbalanced-learn->imblearn) (1.4.2)\n",
      "Requirement already satisfied: threadpoolctl>=2.0.0 in /opt/anaconda3/lib/python3.12/site-packages (from imbalanced-learn->imblearn) (3.5.0)\n"
     ]
    }
   ],
   "source": [
    "!pip install imblearn"
   ]
  },
  {
   "cell_type": "code",
   "execution_count": 27,
   "id": "ba259830-634f-4eac-8701-564cd6b116c3",
   "metadata": {},
   "outputs": [
    {
     "name": "stdout",
     "output_type": "stream",
     "text": [
      "Shape of original X_train: (770, 27)\n",
      "Shape of resampled X_train: (1282, 27)\n",
      "\n",
      "Original Training Class Distribution:\n",
      "Churn\n",
      "0    641\n",
      "1    129\n",
      "Name: count, dtype: int64\n",
      "\n",
      "Resampled Training Class Distribution:\n",
      "Churn\n",
      "1    641\n",
      "0    641\n",
      "Name: count, dtype: int64\n",
      "\n",
      "Training data has been resampled and balanced!\n"
     ]
    }
   ],
   "source": [
    "from imblearn.over_sampling import SMOTE\n",
    "import pandas as pd # Import pandas again, just in case\n",
    "\n",
    "# Initialize SMOTE\n",
    "# random_state ensures reproducibility of the synthetic samples generated\n",
    "smote = SMOTE(random_state=42)\n",
    "\n",
    "# Apply SMOTE to our training data\n",
    "# This creates new, balanced versions of X_train and y_train\n",
    "X_train_resampled, y_train_resampled = smote.fit_resample(X_train, y_train)\n",
    "\n",
    "# Let's check the new distribution of our training data\n",
    "print(\"Shape of original X_train:\", X_train.shape)\n",
    "print(\"Shape of resampled X_train:\", X_train_resampled.shape)\n",
    "print(\"\\nOriginal Training Class Distribution:\")\n",
    "print(pd.Series(y_train).value_counts())\n",
    "print(\"\\nResampled Training Class Distribution:\")\n",
    "print(pd.Series(y_train_resampled).value_counts())\n",
    "\n",
    "print(\"\\nTraining data has been resampled and balanced!\")"
   ]
  },
  {
   "cell_type": "code",
   "execution_count": 28,
   "id": "00accec7-65cf-4b95-a28f-4c41b4e52947",
   "metadata": {},
   "outputs": [
    {
     "name": "stdout",
     "output_type": "stream",
     "text": [
      "Logistic Regression model retrained on resampled data!\n"
     ]
    }
   ],
   "source": [
    "# Initialize a NEW Logistic Regression model \n",
    "\n",
    "model_resampled = LogisticRegression(random_state=42, max_iter=1000) # Added max_iter for convergence\n",
    "\n",
    "# Train the new model using the RESAMPLED training data\n",
    "model_resampled.fit(X_train_resampled, y_train_resampled)\n",
    "\n",
    "print(\"Logistic Regression model retrained on resampled data!\")"
   ]
  },
  {
   "cell_type": "code",
   "execution_count": 29,
   "id": "ac02c8d7-81e4-4052-b9bc-6ceb62db5c4d",
   "metadata": {},
   "outputs": [
    {
     "name": "stdout",
     "output_type": "stream",
     "text": [
      "Predictions on the test set generated by the resampled model!\n"
     ]
    }
   ],
   "source": [
    "# Make predictions on the ORIGINAL test set with the NEWLY TRAINED model\n",
    "y_pred_resampled = model_resampled.predict(X_test)\n",
    "\n",
    "print(\"Predictions on the test set generated by the resampled model!\")"
   ]
  },
  {
   "cell_type": "code",
   "execution_count": 30,
   "id": "141f2c54-143f-4729-ba7d-f69de4769021",
   "metadata": {},
   "outputs": [
    {
     "name": "stdout",
     "output_type": "stream",
     "text": [
      "Confusion Matrix (Resampled Model):\n",
      "[[115  38]\n",
      " [ 22  18]]\n"
     ]
    }
   ],
   "source": [
    "from sklearn.metrics import confusion_matrix \n",
    "\n",
    "# Generate the confusion matrix for the resampled model\n",
    "cm_resampled = confusion_matrix(y_test, y_pred_resampled)\n",
    "\n",
    "print(\"Confusion Matrix (Resampled Model):\")\n",
    "print(cm_resampled)"
   ]
  },
  {
   "cell_type": "code",
   "execution_count": 31,
   "id": "1aac2ee5-2023-4707-b135-882d4b033088",
   "metadata": {},
   "outputs": [
    {
     "name": "stdout",
     "output_type": "stream",
     "text": [
      "Classification Report (Resampled Model):\n",
      "              precision    recall  f1-score   support\n",
      "\n",
      "           0       0.84      0.75      0.79       153\n",
      "           1       0.32      0.45      0.38        40\n",
      "\n",
      "    accuracy                           0.69       193\n",
      "   macro avg       0.58      0.60      0.58       193\n",
      "weighted avg       0.73      0.69      0.71       193\n",
      "\n"
     ]
    }
   ],
   "source": [
    "from sklearn.metrics import classification_report \n",
    "\n",
    "# Generate the classification report for the resampled model\n",
    "report_resampled = classification_report(y_test, y_pred_resampled)\n",
    "\n",
    "print(\"Classification Report (Resampled Model):\")\n",
    "print(report_resampled)"
   ]
  },
  {
   "cell_type": "code",
   "execution_count": 32,
   "id": "d8d6bd53-d96e-4144-84a1-80422e258491",
   "metadata": {},
   "outputs": [
    {
     "name": "stdout",
     "output_type": "stream",
     "text": [
      "Starting GridSearchCV... This might take a few moments.\n",
      "Fitting 5 folds for each of 12 candidates, totalling 60 fits\n",
      "\n",
      "Grid Search Complete!\n",
      "Best Hyperparameters found: {'C': 1, 'solver': 'liblinear'}\n",
      "Best F1-score on cross-validation (training set): 0.7668\n",
      "\n",
      "Best model extracted, ready for final evaluation on test set.\n"
     ]
    }
   ],
   "source": [
    "from sklearn.model_selection import GridSearchCV\n",
    "from sklearn.linear_model import LogisticRegression\n",
    "import warnings # To manage potential warnings\n",
    "\n",
    "warnings.filterwarnings(\"ignore\", category=FutureWarning) # Suppress FutureWarnings that might pop up\n",
    "\n",
    "# Define the parameter grid to search\n",
    "# 'C': Inverse of regularization strength. Smaller values specify stronger regularization.\n",
    "#      Helps prevent overfitting.\n",
    "# 'solver': Algorithm to use in the optimization problem. 'liblinear' and 'lbfgs' are common.\n",
    "param_grid = {\n",
    "    'C': [0.001, 0.01, 0.1, 1, 10, 100],\n",
    "    'solver': ['liblinear', 'lbfgs'] # 'lbfgs' is default, 'liblinear' good for small datasets\n",
    "}\n",
    "\n",
    "# Initialize the Logistic Regression model again (it will be refit many times by GridSearchCV)\n",
    "# Using the same random_state for consistency\n",
    "log_reg_model_for_tuning = LogisticRegression(random_state=42, max_iter=1000)\n",
    "\n",
    "# Initialize GridSearchCV\n",
    "# 'estimator': The model to tune\n",
    "# 'param_grid': The dictionary of parameters to try\n",
    "# 'cv': Number of cross-validation folds (e.g., 5 means it splits the training data 5 times)\n",
    "# 'scoring': The metric to optimize for. 'f1' for class 1 (churn) is a good balance for imbalanced data.\n",
    "# 'verbose': How much output to show (higher number means more detailed output)\n",
    "grid_search = GridSearchCV(\n",
    "    estimator=log_reg_model_for_tuning,\n",
    "    param_grid=param_grid,\n",
    "    cv=5, # 5-fold cross-validation\n",
    "    scoring='f1', # Optimize for F1-score of the positive class (Churn) by default in binary\n",
    "    n_jobs=-1, # Use all available CPU cores\n",
    "    verbose=2 # Show progress\n",
    ")\n",
    "\n",
    "# Fit GridSearchCV on the RESAMPLED TRAINING DATA\n",
    "# This will train many models with different parameter combinations\n",
    "print(\"Starting GridSearchCV... This might take a few moments.\")\n",
    "grid_search.fit(X_train_resampled, y_train_resampled)\n",
    "\n",
    "# Get the best parameters found\n",
    "best_params = grid_search.best_params_\n",
    "best_score = grid_search.best_score_\n",
    "\n",
    "print(\"\\nGrid Search Complete!\")\n",
    "print(f\"Best Hyperparameters found: {best_params}\")\n",
    "print(f\"Best F1-score on cross-validation (training set): {best_score:.4f}\")\n",
    "\n",
    "# Get the best estimator (the model with the best parameters)\n",
    "best_model = grid_search.best_estimator_\n",
    "\n",
    "print(\"\\nBest model extracted, ready for final evaluation on test set.\")"
   ]
  },
  {
   "cell_type": "code",
   "execution_count": 33,
   "id": "7517489c-0465-42c9-bc04-c5fc0102a32c",
   "metadata": {},
   "outputs": [
    {
     "name": "stdout",
     "output_type": "stream",
     "text": [
      "Predictions on the test set generated by the tuned model!\n"
     ]
    }
   ],
   "source": [
    "# Make predictions on the ORIGINAL test set with the NEWLY TUNED model\n",
    "y_pred_tuned = best_model.predict(X_test)\n",
    "\n",
    "print(\"Predictions on the test set generated by the tuned model!\")"
   ]
  },
  {
   "cell_type": "code",
   "execution_count": 34,
   "id": "139c6c46-af50-4c15-b126-435b4716e2f7",
   "metadata": {},
   "outputs": [
    {
     "name": "stdout",
     "output_type": "stream",
     "text": [
      "Confusion Matrix (Tuned Model):\n",
      "[[115  38]\n",
      " [ 21  19]]\n"
     ]
    }
   ],
   "source": [
    "from sklearn.metrics import confusion_matrix\n",
    "\n",
    "# Generate the confusion matrix for the tuned model\n",
    "cm_tuned = confusion_matrix(y_test, y_pred_tuned)\n",
    "\n",
    "print(\"Confusion Matrix (Tuned Model):\")\n",
    "print(cm_tuned)"
   ]
  },
  {
   "cell_type": "code",
   "execution_count": 35,
   "id": "5e88ee4e-a304-4fd8-8376-cc68107ea045",
   "metadata": {},
   "outputs": [
    {
     "name": "stdout",
     "output_type": "stream",
     "text": [
      "Classification Report (Tuned Model):\n",
      "              precision    recall  f1-score   support\n",
      "\n",
      "           0       0.85      0.75      0.80       153\n",
      "           1       0.33      0.47      0.39        40\n",
      "\n",
      "    accuracy                           0.69       193\n",
      "   macro avg       0.59      0.61      0.59       193\n",
      "weighted avg       0.74      0.69      0.71       193\n",
      "\n"
     ]
    }
   ],
   "source": [
    "from sklearn.metrics import classification_report\n",
    "\n",
    "# Generate the classification report for the tuned model\n",
    "report_tuned = classification_report(y_test, y_pred_tuned)\n",
    "\n",
    "print(\"Classification Report (Tuned Model):\")\n",
    "print(report_tuned)\n"
   ]
  },
  {
   "cell_type": "code",
   "execution_count": 36,
   "id": "d5303c8a-1c66-4df6-887f-1818d30c840a",
   "metadata": {},
   "outputs": [
    {
     "name": "stdout",
     "output_type": "stream",
     "text": [
      "Predictions generated with a new threshold of 0.3\n",
      "\n",
      "Confusion Matrix (Tuned Model with New Threshold):\n",
      "[[81 72]\n",
      " [ 8 32]]\n",
      "\n",
      "Classification Report (Tuned Model with New Threshold):\n",
      "              precision    recall  f1-score   support\n",
      "\n",
      "           0       0.91      0.53      0.67       153\n",
      "           1       0.31      0.80      0.44        40\n",
      "\n",
      "    accuracy                           0.59       193\n",
      "   macro avg       0.61      0.66      0.56       193\n",
      "weighted avg       0.79      0.59      0.62       193\n",
      "\n"
     ]
    }
   ],
   "source": [
    "import numpy as np\n",
    "from sklearn.metrics import confusion_matrix, classification_report\n",
    "\n",
    "# Get the predicted probabilities for the positive class (Churn) from our best_model\n",
    "y_pred_proba = best_model.predict_proba(X_test)[:, 1]\n",
    "\n",
    "# Define a new, lower threshold\n",
    "new_threshold = 0.3\n",
    "\n",
    "# Convert probabilities to binary predictions using the new threshold\n",
    "y_pred_new_threshold = (y_pred_proba >= new_threshold).astype(int)\n",
    "\n",
    "print(f\"Predictions generated with a new threshold of {new_threshold}\")\n",
    "\n",
    "# Evaluate the model with the new threshold\n",
    "cm_new_threshold = confusion_matrix(y_test, y_pred_new_threshold)\n",
    "report_new_threshold = classification_report(y_test, y_pred_new_threshold)\n",
    "\n",
    "print(\"\\nConfusion Matrix (Tuned Model with New Threshold):\")\n",
    "print(cm_new_threshold)\n",
    "\n",
    "print(\"\\nClassification Report (Tuned Model with New Threshold):\")\n",
    "print(report_new_threshold)"
   ]
  },
  {
   "cell_type": "code",
   "execution_count": 37,
   "id": "cd94f257-29c8-4072-85c4-bc651a66cb77",
   "metadata": {},
   "outputs": [
    {
     "name": "stdout",
     "output_type": "stream",
     "text": [
      "Requirement already satisfied: xgboost in /opt/anaconda3/lib/python3.12/site-packages (3.0.2)\n",
      "Requirement already satisfied: numpy in /opt/anaconda3/lib/python3.12/site-packages (from xgboost) (1.26.4)\n",
      "Requirement already satisfied: scipy in /opt/anaconda3/lib/python3.12/site-packages (from xgboost) (1.13.1)\n"
     ]
    }
   ],
   "source": [
    "!pip install xgboost"
   ]
  },
  {
   "cell_type": "code",
   "execution_count": 38,
   "id": "ef1c5392-a5ec-4b43-b5a2-75cea1470058",
   "metadata": {},
   "outputs": [
    {
     "name": "stdout",
     "output_type": "stream",
     "text": [
      "Starting XGBoost GridSearchCV... This will take a while.\n",
      "Fitting 5 folds for each of 108 candidates, totalling 540 fits\n",
      "\n",
      "XGBoost Grid Search Complete!\n",
      "Best XGBoost Hyperparameters found: {'colsample_bytree': 0.8, 'learning_rate': 0.1, 'max_depth': 7, 'n_estimators': 100, 'subsample': 0.8}\n",
      "Best F1-score on cross-validation (training set) for XGBoost: 0.8938\n",
      "\n",
      "Best XGBoost model extracted, ready for final evaluation on test set.\n"
     ]
    }
   ],
   "source": [
    "from sklearn.model_selection import GridSearchCV\n",
    "import xgboost as xgb\n",
    "import warnings\n",
    "\n",
    "warnings.filterwarnings(\"ignore\", category=UserWarning) # Suppress the use_label_encoder warning\n",
    "warnings.filterwarnings(\"ignore\", category=FutureWarning)\n",
    "\n",
    "# Define the parameter grid for XGBoost\n",
    "param_grid_xgb = {\n",
    "    'n_estimators': [100, 200, 300],  # Number of boosting rounds (trees)\n",
    "    'learning_rate': [0.01, 0.1, 0.2], # Step size shrinkage\n",
    "    'max_depth': [3, 5, 7],           # Maximum depth of a tree\n",
    "    'subsample': [0.8, 1.0],          # Fraction of samples used for fitting the trees\n",
    "    'colsample_bytree': [0.8, 1.0]    # Fraction of features used for fitting the trees\n",
    "}\n",
    "\n",
    "# Initialize the XGBoost Classifier for tuning\n",
    "xgb_model_for_tuning = xgb.XGBClassifier(\n",
    "    objective='binary:logistic',\n",
    "    \n",
    "    eval_metric='logloss',\n",
    "    random_state=42\n",
    ")\n",
    "\n",
    "# Initialize GridSearchCV for XGBoost\n",
    "# We'll stick to 'f1' scoring for the positive class (churn) to balance precision/recall\n",
    "grid_search_xgb = GridSearchCV(\n",
    "    estimator=xgb_model_for_tuning,\n",
    "    param_grid=param_grid_xgb,\n",
    "    cv=5,                 # 5-fold cross-validation\n",
    "    scoring='f1',         # Optimize for F1-score of the positive class (Churn)\n",
    "    n_jobs=-1,            # Use all available CPU cores\n",
    "    verbose=2             # Show progress\n",
    ")\n",
    "\n",
    "# Fit GridSearchCV on the RESAMPLED TRAINING DATA\n",
    "print(\"Starting XGBoost GridSearchCV... This will take a while.\")\n",
    "grid_search_xgb.fit(X_train_resampled, y_train_resampled)\n",
    "\n",
    "# Get the best parameters and best estimator\n",
    "best_params_xgb = grid_search_xgb.best_params_\n",
    "best_score_xgb = grid_search_xgb.best_score_\n",
    "best_xgb_model = grid_search_xgb.best_estimator_\n",
    "\n",
    "print(\"\\nXGBoost Grid Search Complete!\")\n",
    "print(f\"Best XGBoost Hyperparameters found: {best_params_xgb}\")\n",
    "print(f\"Best F1-score on cross-validation (training set) for XGBoost: {best_score_xgb:.4f}\")\n",
    "\n",
    "print(\"\\nBest XGBoost model extracted, ready for final evaluation on test set.\")"
   ]
  },
  {
   "cell_type": "code",
   "execution_count": 39,
   "id": "96f26141-8812-42a2-b51d-7eef870cd69a",
   "metadata": {},
   "outputs": [
    {
     "name": "stdout",
     "output_type": "stream",
     "text": [
      "Starting XGBoost model training...\n",
      "XGBoost model training complete!\n",
      "\n",
      "Confusion Matrix (Initial XGBoost Model):\n",
      "[[133  20]\n",
      " [ 26  14]]\n",
      "\n",
      "Classification Report (Initial XGBoost Model):\n",
      "              precision    recall  f1-score   support\n",
      "\n",
      "           0       0.84      0.87      0.85       153\n",
      "           1       0.41      0.35      0.38        40\n",
      "\n",
      "    accuracy                           0.76       193\n",
      "   macro avg       0.62      0.61      0.62       193\n",
      "weighted avg       0.75      0.76      0.75       193\n",
      "\n"
     ]
    }
   ],
   "source": [
    "import xgboost as xgb\n",
    "from sklearn.metrics import confusion_matrix, classification_report\n",
    "import pandas as pd # Just in case\n",
    "\n",
    "# Initialize the XGBoost Classifier\n",
    "# use_label_encoder=False and eval_metric='logloss' are common settings for newer XGBoost versions\n",
    "# We'll use 'objective='binary:logistic'' for binary classification\n",
    "# random_state for reproducibility\n",
    "xgb_model = xgb.XGBClassifier(\n",
    "    objective='binary:logistic',\n",
    "    \n",
    "    eval_metric='logloss',    # Metric for evaluation during training\n",
    "    random_state=42,\n",
    "    n_estimators=100,         # Number of boosting rounds (trees to build)\n",
    "    learning_rate=0.1         # Step size shrinkage to prevent overfitting\n",
    ")\n",
    "\n",
    "# Train the XGBoost model on our RESAMPLED training data\n",
    "print(\"Starting XGBoost model training...\")\n",
    "xgb_model.fit(X_train_resampled, y_train_resampled)\n",
    "print(\"XGBoost model training complete!\")\n",
    "\n",
    "# Make predictions on the ORIGINAL test set\n",
    "y_pred_xgb = xgb_model.predict(X_test)\n",
    "\n",
    "# Get the probability predictions (needed for potential thresholding later)\n",
    "y_pred_proba_xgb = xgb_model.predict_proba(X_test)[:, 1]\n",
    "\n",
    "# Evaluate the initial XGBoost model\n",
    "print(\"\\nConfusion Matrix (Initial XGBoost Model):\")\n",
    "print(confusion_matrix(y_test, y_pred_xgb))\n",
    "\n",
    "print(\"\\nClassification Report (Initial XGBoost Model):\")\n",
    "print(classification_report(y_test, y_pred_xgb))"
   ]
  },
  {
   "cell_type": "code",
   "execution_count": 40,
   "id": "1228459c-2be7-46a0-87b6-9d79df9f0448",
   "metadata": {},
   "outputs": [
    {
     "name": "stdout",
     "output_type": "stream",
     "text": [
      "Predictions on the test set generated by the tuned XGBoost model!\n"
     ]
    }
   ],
   "source": [
    "# Make predictions on the ORIGINAL test set with the NEWLY TUNED XGBoost model\n",
    "y_pred_xgb_tuned = best_xgb_model.predict(X_test)\n",
    "\n",
    "# Get the probability predictions (needed for potential thresholding later)\n",
    "y_pred_proba_xgb_tuned = best_xgb_model.predict_proba(X_test)[:, 1]\n",
    "\n",
    "print(\"Predictions on the test set generated by the tuned XGBoost model!\")\n"
   ]
  },
  {
   "cell_type": "code",
   "execution_count": 41,
   "id": "57ffa4a1-a79d-4514-8dba-aafb7becaef1",
   "metadata": {},
   "outputs": [
    {
     "name": "stdout",
     "output_type": "stream",
     "text": [
      "Confusion Matrix (Tuned XGBoost Model):\n",
      "[[135  18]\n",
      " [ 24  16]]\n"
     ]
    }
   ],
   "source": [
    "from sklearn.metrics import confusion_matrix\n",
    "\n",
    "# Generate the confusion matrix for the tuned XGBoost model\n",
    "cm_xgb_tuned = confusion_matrix(y_test, y_pred_xgb_tuned)\n",
    "\n",
    "print(\"Confusion Matrix (Tuned XGBoost Model):\")\n",
    "print(cm_xgb_tuned)"
   ]
  },
  {
   "cell_type": "code",
   "execution_count": 42,
   "id": "656892de-3e55-4a82-acb1-3ae3ea7d1bba",
   "metadata": {},
   "outputs": [
    {
     "name": "stdout",
     "output_type": "stream",
     "text": [
      "Classification Report (Tuned XGBoost Model):\n",
      "              precision    recall  f1-score   support\n",
      "\n",
      "           0       0.85      0.88      0.87       153\n",
      "           1       0.47      0.40      0.43        40\n",
      "\n",
      "    accuracy                           0.78       193\n",
      "   macro avg       0.66      0.64      0.65       193\n",
      "weighted avg       0.77      0.78      0.78       193\n",
      "\n"
     ]
    }
   ],
   "source": [
    "from sklearn.metrics import classification_report\n",
    "\n",
    "# Generate the classification report for the tuned XGBoost model\n",
    "report_xgb_tuned = classification_report(y_test, y_pred_xgb_tuned)\n",
    "\n",
    "print(\"Classification Report (Tuned XGBoost Model):\")\n",
    "print(report_xgb_tuned)"
   ]
  },
  {
   "cell_type": "code",
   "execution_count": 43,
   "id": "c878e2c0-257e-468e-beca-58083c693263",
   "metadata": {},
   "outputs": [
    {
     "name": "stdout",
     "output_type": "stream",
     "text": [
      "Predictions generated by Tuned XGBoost with a new threshold of 0.3\n",
      "\n",
      "Confusion Matrix (Tuned XGBoost Model with New Threshold):\n",
      "[[122  31]\n",
      " [ 19  21]]\n",
      "\n",
      "Classification Report (Tuned XGBoost Model with New Threshold):\n",
      "              precision    recall  f1-score   support\n",
      "\n",
      "           0       0.87      0.80      0.83       153\n",
      "           1       0.40      0.53      0.46        40\n",
      "\n",
      "    accuracy                           0.74       193\n",
      "   macro avg       0.63      0.66      0.64       193\n",
      "weighted avg       0.77      0.74      0.75       193\n",
      "\n"
     ]
    }
   ],
   "source": [
    "import numpy as np\n",
    "from sklearn.metrics import confusion_matrix, classification_report\n",
    "\n",
    "# We already have y_pred_proba_xgb_tuned from the last step (probabilities from best_xgb_model)\n",
    "\n",
    "# Define the new threshold\n",
    "new_threshold_xgb = 0.3\n",
    "\n",
    "# Convert probabilities to binary predictions using the new threshold\n",
    "y_pred_xgb_new_threshold = (y_pred_proba_xgb_tuned >= new_threshold_xgb).astype(int)\n",
    "\n",
    "print(f\"Predictions generated by Tuned XGBoost with a new threshold of {new_threshold_xgb}\")\n",
    "\n",
    "# Evaluate the Tuned XGBoost model with the new threshold\n",
    "cm_xgb_new_threshold = confusion_matrix(y_test, y_pred_xgb_new_threshold)\n",
    "report_xgb_new_threshold = classification_report(y_test, y_pred_xgb_new_threshold)\n",
    "\n",
    "print(\"\\nConfusion Matrix (Tuned XGBoost Model with New Threshold):\")\n",
    "print(cm_xgb_new_threshold)\n",
    "\n",
    "print(\"\\nClassification Report (Tuned XGBoost Model with New Threshold):\")\n",
    "print(report_xgb_new_threshold)"
   ]
  },
  {
   "cell_type": "code",
   "execution_count": 44,
   "id": "6a1b0f57-700c-4185-ae5a-3df300780ad4",
   "metadata": {},
   "outputs": [
    {
     "data": {
      "image/png": "[encoded data removed]",
      "text/plain": [
       "<Figure size 1000x700 with 1 Axes>"
      ]
     },
     "metadata": {},
     "output_type": "display_data"
    },
    {
     "name": "stdout",
     "output_type": "stream",
     "text": [
      "\n",
      "--- Key Thresholds and Their Performance (Churn Class) ---\n",
      "Recall | Precision | Threshold\n",
      "-------------------------------\n",
      "1.00   | 0.21    | 0.0015\n",
      "0.97   | 0.22    | 0.0130\n",
      "0.97   | 0.25    | 0.0311\n",
      "0.88   | 0.26    | 0.0518\n",
      "0.82   | 0.28    | 0.0811\n",
      "0.75   | 0.31    | 0.1174\n",
      "0.62   | 0.32    | 0.1877\n",
      "0.53   | 0.35    | 0.2526\n",
      "0.45   | 0.44    | 0.3999\n",
      "0.30   | 0.55    | 0.6602\n",
      "0.03   | 0.33    | 0.9190\n",
      "\n",
      "Interpret the plot: Moving right means higher Recall (catching more churners).\n",
      "Moving up means higher Precision (fewer false alarms).\n",
      "You want to find a point that balances your goal for recall with acceptable precision.\n"
     ]
    }
   ],
   "source": [
    "import matplotlib.pyplot as plt\n",
    "from sklearn.metrics import precision_recall_curve\n",
    "import numpy as np\n",
    "\n",
    "# Ensure matplotlib plots are shown inline\n",
    "%matplotlib inline\n",
    "\n",
    "# We have the probabilities for the positive class from the tuned XGBoost model: y_pred_proba_xgb_tuned\n",
    "# And the true labels for the test set: y_test\n",
    "\n",
    "# Calculate precision, recall, and thresholds\n",
    "precisions, recalls, thresholds = precision_recall_curve(y_test, y_pred_proba_xgb_tuned)\n",
    "\n",
    "# Plot the Precision-Recall curve\n",
    "plt.figure(figsize=(10, 7))\n",
    "plt.plot(recalls, precisions, marker='.', label='XGBoost Precision-Recall Curve')\n",
    "plt.xlabel('Recall (True Positive Rate)')\n",
    "plt.ylabel('Precision (Positive Predictive Value)')\n",
    "plt.title('Precision-Recall Curve for Tuned XGBoost Model (Churn Prediction)')\n",
    "plt.grid(True)\n",
    "plt.legend()\n",
    "plt.xlim([0.0, 1.0])\n",
    "plt.ylim([0.0, 1.05])\n",
    "\n",
    "# Optionally, add some specific points of interest (e.g., current 0.5 threshold, 0.3 threshold from before)\n",
    "# Find values for 0.5 threshold\n",
    "# Find index of the threshold closest to 0.5\n",
    "idx_0_5 = np.argmin(np.abs(thresholds - 0.5))\n",
    "plt.plot(recalls[idx_0_5], precisions[idx_0_5], 'o', markersize=8, color='red', label=f'Threshold 0.5 (P:{precisions[idx_0_5]:.2f}, R:{recalls[idx_0_5]:.2f})')\n",
    "\n",
    "# Find values for 0.3 threshold\n",
    "idx_0_3 = np.argmin(np.abs(thresholds - 0.3))\n",
    "plt.plot(recalls[idx_0_3], precisions[idx_0_3], 'o', markersize=8, color='green', label=f'Threshold 0.3 (P:{precisions[idx_0_3]:.2f}, R:{recalls[idx_0_3]:.2f})')\n",
    "\n",
    "plt.legend()\n",
    "plt.show()\n",
    "\n",
    "# We can also print out some key points along the curve \n",
    "print(\"\\n--- Key Thresholds and Their Performance (Churn Class) ---\")\n",
    "print(\"Recall | Precision | Threshold\")\n",
    "print(\"-------------------------------\")\n",
    "# Print points for recalls around 0.5, 0.6, 0.7, 0.8, 0.9, if available\n",
    "for i in range(0, len(recalls), len(recalls)//10): # Print ~10 points\n",
    "    if i < len(thresholds): # Ensure index is within bounds for thresholds\n",
    "        print(f\"{recalls[i]:.2f}   | {precisions[i]:.2f}    | {thresholds[i]:.4f}\")\n",
    "    else: # Handle the last point where thresholds array is shorter by 1\n",
    "         print(f\"{recalls[i]:.2f}   | {precisions[i]:.2f}    | N/A (Last Point)\")\n",
    "\n",
    "print(\"\\nInterpret the plot: Moving right means higher Recall (catching more churners).\")\n",
    "print(\"Moving up means higher Precision (fewer false alarms).\")\n",
    "print(\"You want to find a point that balances your goal for recall with acceptable precision.\")"
   ]
  },
  {
   "cell_type": "code",
   "execution_count": 45,
   "id": "8e88544a-e167-40ab-b241-aa0b16f71f7f",
   "metadata": {},
   "outputs": [
    {
     "name": "stdout",
     "output_type": "stream",
     "text": [
      "Requirement already satisfied: matplotlib in /opt/anaconda3/lib/python3.12/site-packages (3.9.2)\n",
      "Requirement already satisfied: seaborn in /opt/anaconda3/lib/python3.12/site-packages (0.13.2)\n",
      "Requirement already satisfied: contourpy>=1.0.1 in /opt/anaconda3/lib/python3.12/site-packages (from matplotlib) (1.2.0)\n",
      "Requirement already satisfied: cycler>=0.10 in /opt/anaconda3/lib/python3.12/site-packages (from matplotlib) (0.11.0)\n",
      "Requirement already satisfied: fonttools>=4.22.0 in /opt/anaconda3/lib/python3.12/site-packages (from matplotlib) (4.51.0)\n",
      "Requirement already satisfied: kiwisolver>=1.3.1 in /opt/anaconda3/lib/python3.12/site-packages (from matplotlib) (1.4.4)\n",
      "Requirement already satisfied: numpy>=1.23 in /opt/anaconda3/lib/python3.12/site-packages (from matplotlib) (1.26.4)\n",
      "Requirement already satisfied: packaging>=20.0 in /opt/anaconda3/lib/python3.12/site-packages (from matplotlib) (24.1)\n",
      "Requirement already satisfied: pillow>=8 in /opt/anaconda3/lib/python3.12/site-packages (from matplotlib) (10.4.0)\n",
      "Requirement already satisfied: pyparsing>=2.3.1 in /opt/anaconda3/lib/python3.12/site-packages (from matplotlib) (3.1.2)\n",
      "Requirement already satisfied: python-dateutil>=2.7 in /opt/anaconda3/lib/python3.12/site-packages (from matplotlib) (2.9.0.post0)\n",
      "Requirement already satisfied: pandas>=1.2 in /opt/anaconda3/lib/python3.12/site-packages (from seaborn) (2.2.2)\n",
      "Requirement already satisfied: pytz>=2020.1 in /opt/anaconda3/lib/python3.12/site-packages (from pandas>=1.2->seaborn) (2024.1)\n",
      "Requirement already satisfied: tzdata>=2022.7 in /opt/anaconda3/lib/python3.12/site-packages (from pandas>=1.2->seaborn) (2023.3)\n",
      "Requirement already satisfied: six>=1.5 in /opt/anaconda3/lib/python3.12/site-packages (from python-dateutil>=2.7->matplotlib) (1.16.0)\n"
     ]
    }
   ],
   "source": [
    "!pip install matplotlib seaborn\n"
   ]
  },
  {
   "cell_type": "code",
   "execution_count": 46,
   "id": "9fcd3927-2ae4-40b4-abab-b74ef165187b",
   "metadata": {},
   "outputs": [
    {
     "data": {
      "image/png": "[encoded data removed]",
      "text/plain": [
       "<Figure size 800x600 with 1 Axes>"
      ]
     },
     "metadata": {},
     "output_type": "display_data"
    },
    {
     "name": "stdout",
     "output_type": "stream",
     "text": [
      "Initial Churn Distribution visualization generated!\n"
     ]
    }
   ],
   "source": [
    "import matplotlib.pyplot as plt\n",
    "import seaborn as sns\n",
    "import pandas as pd\n",
    "\n",
    "# Assume df_initial is my original DataFrame before any changes\n",
    "\n",
    "# For the purpose of demonstration for my report, we'll use the original y_train distribution.\n",
    "# y_train_original_counts = pd.Series([641, 129], index=[0, 1], name='Churn') # These are the original counts \n",
    "\n",
    "# Original Training Class Distribution:\n",
    "# Churn\n",
    "# 0    641\n",
    "# 1    129\n",
    "# Name: count, dtype: int64\n",
    "\n",
    "# Create a DataFrame for plotting this original distribution\n",
    "original_churn_data = pd.DataFrame({\n",
    "    'Churn': ['No Churn', 'Churn'],\n",
    "    'Count': [641, 129]\n",
    "})\n",
    "\n",
    "plt.figure(figsize=(8, 6))\n",
    "sns.barplot(x='Churn', y='Count', data=original_churn_data, palette='viridis')\n",
    "plt.title('Original Training Class Distribution (Before SMOTE)')\n",
    "plt.xlabel('Churn Status (0: No Churn, 1: Churn)')\n",
    "plt.ylabel('Number of Customers')\n",
    "plt.text(0, 641 + 20, f'641 ({641/(641+129):.1%})', ha='center', va='bottom', fontsize=10)\n",
    "plt.text(1, 129 + 20, f'129 ({129/(641+129):.1%})', ha='center', va='bottom', fontsize=10)\n",
    "plt.ylim(0, 750) # Adjust y-limit for better visual\n",
    "plt.show()\n",
    "\n",
    "print(\"Initial Churn Distribution visualization generated!\")"
   ]
  },
  {
   "cell_type": "code",
   "execution_count": 47,
   "id": "1206a37e-1edb-4202-ab0b-967ccb96b364",
   "metadata": {},
   "outputs": [
    {
     "data": {
      "image/png": "[encoded data removed]",
      "text/plain": [
       "<Figure size 800x600 with 1 Axes>"
      ]
     },
     "metadata": {},
     "output_type": "display_data"
    },
    {
     "name": "stdout",
     "output_type": "stream",
     "text": [
      "Confusion Matrix visualization generated for Tuned XGBoost at chosen threshold!\n"
     ]
    }
   ],
   "source": [
    "import matplotlib.pyplot as plt\n",
    "import seaborn as sns\n",
    "from sklearn.metrics import confusion_matrix\n",
    "import numpy as np\n",
    "\n",
    "# Define the confusion matrix data for the Tuned XGBoost Model at my chosen threshold (0.1877)\n",
    "# Based on my chosen operating point: Recall 0.62, Precision 0.32\n",
    "# Churn Class (1) Recall = TP / (TP + FN) = 0.62\n",
    "# Churn Class (1) Precision = TP / (TP + FP) = 0.32\n",
    "# Total Actual Churners = 40 (from y_test support)\n",
    "\n",
    "# Derive the TP, FN, FP, TN based on 40 actual churners and 153 actual non-churners\n",
    "\n",
    "# Calculate TP: Recall * Actual Churners = 0.62 * 40 = 24.8 -> round to 25 (since TP must be integer)\n",
    "# Let's use 25 as TP for visualization purposes to make numbers cleaner.\n",
    "TP = 25\n",
    "\n",
    "# Calculate FN: Actual Churners - TP = 40 - 25 = 15\n",
    "FN = 15\n",
    "\n",
    "# Calculate FP using Precision: Precision = TP / (TP + FP) => 0.32 = 25 / (25 + FP)\n",
    "# 0.32 * (25 + FP) = 25\n",
    "# 8 + 0.32 * FP = 25\n",
    "# 0.32 * FP = 17\n",
    "# FP = 17 / 0.32 = 53.125 -> round to 53\n",
    "FP = 53\n",
    "\n",
    "# Calculate TN: Actual Non-Churners - FP = 153 - 53 = 100\n",
    "TN = 100\n",
    "\n",
    "# Create the confusion matrix array\n",
    "cm_data = np.array([[TN, FP],\n",
    "                    [FN, TP]])\n",
    "\n",
    "# Plotting the Confusion Matrix\n",
    "plt.figure(figsize=(8, 6))\n",
    "sns.heatmap(cm_data, annot=True, fmt='d', cmap='Blues', cbar=False,\n",
    "            xticklabels=['Predicted No Churn (0)', 'Predicted Churn (1)'],\n",
    "            yticklabels=['Actual No Churn (0)', 'Actual Churn (1)'])\n",
    "plt.title(f'Confusion Matrix for Tuned XGBoost Model (Threshold: 0.1877)')\n",
    "plt.xlabel('Predicted Label')\n",
    "plt.ylabel('True Label')\n",
    "\n",
    "# Add text for metrics for clarity in the plot \n",
    "# Position the text slightly to the right of the middle of the heatmap\n",
    "plt.text(0.5, -0.2, f'Recall (Churn): {TP/(TP+FN):.2f}', ha='center', va='center', transform=plt.gca().transAxes, fontsize=12)\n",
    "plt.text(0.5, -0.25, f'Precision (Churn): {TP/(TP+FP):.2f}', ha='center', va='center', transform=plt.gca().transAxes, fontsize=12)\n",
    "plt.text(0.5, -0.3, f'False Positives: {FP}', ha='center', va='center', transform=plt.gca().transAxes, fontsize=12)\n",
    "plt.show()\n",
    "\n",
    "print(\"Confusion Matrix visualization generated for Tuned XGBoost at chosen threshold!\")\n"
   ]
  },
  {
   "cell_type": "code",
   "execution_count": 48,
   "id": "20abbe1c-930a-4c87-8776-dad6c38460f7",
   "metadata": {},
   "outputs": [
    {
     "data": {
      "image/png": "[encoded data removed]",
      "text/plain": [
       "<Figure size 1200x800 with 1 Axes>"
      ]
     },
     "metadata": {},
     "output_type": "display_data"
    },
    {
     "name": "stdout",
     "output_type": "stream",
     "text": [
      "Feature Importance visualization generated!\n"
     ]
    }
   ],
   "source": [
    "import matplotlib.pyplot as plt\n",
    "import seaborn as sns\n",
    "import pandas as pd\n",
    "\n",
    "# This code assumes I have already trained my best_xgb_model\n",
    "# and that X_train_resampled (my processed training data) is available.\n",
    "\n",
    "# Get the importance scores directly from the trained XGBoost model.\n",
    "# These scores tell me how much each feature contributed to the model's predictions.\n",
    "feature_importances = best_xgb_model.feature_importances_\n",
    "\n",
    "# Now, I need to match these numerical importance scores to their actual feature names (column headers).\n",
    "# The order of the importance scores matches the order of the features in the training data.\n",
    "try:\n",
    "    # This is the standard way to get feature names in my notebook,\n",
    "    # as X_train_resampled is always available after preprocessing.\n",
    "    feature_names = X_train_resampled.columns.tolist()\n",
    "except NameError:\n",
    "    # This fallback is here mostly for demonstration or unusual debugging.\n",
    "    # If X_train_resampled isn't found for some reason, I'll use a hardcoded list of common feature names\n",
    "    # that match the structure of my preprocessed data.\n",
    "    print(\"Warning: Could not dynamically get feature names. Using a pre-defined list as fallback.\")\n",
    "    feature_names = [\n",
    "        'tenure', 'MonthlyCharges', 'TotalCharges', 'Gender_Female', 'Gender_Male',\n",
    "        'Partner_No', 'Partner_Yes', 'Dependents_No', 'Dependents_Yes',\n",
    "        'PhoneService_No', 'PhoneService_Yes', 'MultipleLines_No',\n",
    "        'MultipleLines_No phone service', 'MultipleLines_Yes',\n",
    "        'InternetService_DSL', 'InternetService_Fiber optic', 'InternetService_No',\n",
    "        'OnlineSecurity_No', 'OnlineSecurity_No internet service', 'OnlineSecurity_Yes',\n",
    "        'OnlineBackup_No', 'OnlineBackup_No internet service', 'OnlineBackup_Yes',\n",
    "        'DeviceProtection_No', 'DeviceProtection_No internet service', 'DeviceProtection_Yes',\n",
    "        'TechSupport_No', 'TechSupport_No internet service', 'TechSupport_Yes',\n",
    "        'StreamingTV_No', 'StreamingTV_No internet service', 'StreamingTV_Yes',\n",
    "        'StreamingMovies_No', 'StreamingMovies_No internet service', 'StreamingMovies_Yes',\n",
    "        'Contract_Month-to-month', 'Contract_One year', 'Contract_Two year',\n",
    "        'PaperlessBilling_No', 'PaperlessBilling_Yes',\n",
    "        'PaymentMethod_Bank transfer (automatic)', 'PaymentMethod_Credit card (automatic)',\n",
    "        'PaymentMethod_Electronic check', 'PaymentMethod_Mailed check'\n",
    "    ]\n",
    "    # Adjusting list length if there's a mismatch (shouldn't happen in a clean run)\n",
    "    if len(feature_names) > len(feature_importances):\n",
    "        feature_names = feature_names[:len(feature_importances)]\n",
    "    elif len(feature_names) < len(feature_importances):\n",
    "        feature_names.extend([f'feature_{i}' for i in range(len(feature_names), len(feature_importances))])\n",
    "\n",
    "\n",
    "# Combine the importance scores with their feature names into a pandas Series.\n",
    "# This makes it easy to sort and select the most important ones.\n",
    "importance_df = pd.Series(feature_importances, index=feature_names)\n",
    "\n",
    "# Sort the features from most important to least important.\n",
    "importance_df = importance_df.sort_values(ascending=False)\n",
    "\n",
    "# Plot the top N features to visualize what the model considered most impactful.\n",
    "top_n = 15 # I chose to display the top 15 features.\n",
    "plt.figure(figsize=(12, 8))\n",
    "sns.barplot(x=importance_df.head(top_n).values, y=importance_df.head(top_n).index, palette='viridis')\n",
    "plt.title(f'Top {top_n} Feature Importances from Tuned XGBoost Model')\n",
    "plt.xlabel('Importance Score')\n",
    "plt.ylabel('Feature Name')\n",
    "plt.tight_layout()\n",
    "plt.show()\n",
    "\n",
    "print(\"Feature Importance visualization generated!\")\n",
    "\n"
   ]
  },
  {
   "cell_type": "code",
   "execution_count": null,
   "id": "03d1e05e-3f3d-425c-b609-83b095f535bf",
   "metadata": {},
   "outputs": [],
   "source": []
  }
 ],
 "metadata": {
  "kernelspec": {
   "display_name": "Python [conda env:base] *",
   "language": "python",
   "name": "conda-base-py"
  },
  "language_info": {
   "codemirror_mode": {
    "name": "ipython",
    "version": 3
   },
   "file_extension": ".py",
   "mimetype": "text/x-python",
   "name": "python",
   "nbconvert_exporter": "python",
   "pygments_lexer": "ipython3",
   "version": "3.12.7"
  }
 },
 "nbformat": 4,
 "nbformat_minor": 5
}
